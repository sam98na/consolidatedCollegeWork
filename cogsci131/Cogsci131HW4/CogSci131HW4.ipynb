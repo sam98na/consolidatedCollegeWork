{
 "cells": [
  {
   "cell_type": "code",
   "execution_count": 27,
   "metadata": {
    "collapsed": true
   },
   "outputs": [],
   "source": [
    "import numpy as np\n",
    "import scipy as sp"
   ]
  },
  {
   "cell_type": "markdown",
   "metadata": {},
   "source": [
    "# Question 1"
   ]
  },
  {
   "cell_type": "markdown",
   "metadata": {},
   "source": [
    "<b> --1-similarity (as discussed in lecture, a simple way to find a form of distance) <br>\n",
    "--Euclidean distance (generic well-established way to find a straight line distance between two points)<br>\n",
    "--Manhattan distance (the sum of the horizontal and vertical distances between two points).<br><br>\n",
    "I'll chose to use 1-similarity because it was the one explicitly discussed in class and is the only one that I'm certain works.</b>"
   ]
  },
  {
   "cell_type": "markdown",
   "metadata": {},
   "source": [
    "# Question 2"
   ]
  },
  {
   "cell_type": "code",
   "execution_count": 39,
   "metadata": {
    "collapsed": false
   },
   "outputs": [],
   "source": [
    "column_names = [\"football\",\"baseball\",\"basketball\",\"tennis\",\"softball\",\"canoeing\",\"handball\",\"rugby\",\"hockey\",\"ice hockey\",\"swimming\",\"track\",\"boxing\",\"volleyball\",\"lacrosse\",\"skiing\",\"golf\",\"polo\",\"surfing\",\"wrestling\",\"gymnastics\"]\n",
    "similarity = np.loadtxt(open(\"Assignment4-similarities.csv\", \"rb\"), delimiter=\",\", skiprows=1)\n",
    "similarity[0]\n",
    "\n",
    "distances = []\n",
    "\n",
    "for i in similarity:\n",
    "    appendable = []\n",
    "    for n in i:\n",
    "        appendable.append(1-n)\n",
    "    distances.append(appendable)\n",
    "\n",
    "def dist(a, b):\n",
    "    return np.sqrt(np.sum(a - b)**2)\n",
    "\n",
    "#D = 2 # How many dimensions we are going to use\n",
    "#N = distances.shape[0] # the number of items\n",
    "#assert(distances.shape[1] == N and N==len(names))\n",
    "\n",
    "def stress(p):\n",
    "    lst = []\n",
    "    for i in range(len(p)):\n",
    "        for j in range(i + 1, len(p)):\n",
    "            lst.append((p[i] - p[j]))\n",
    "            \n"
   ]
  },
  {
   "cell_type": "code",
   "execution_count": null,
   "metadata": {
    "collapsed": true
   },
   "outputs": [],
   "source": []
  }
 ],
 "metadata": {
  "anaconda-cloud": {},
  "kernelspec": {
   "display_name": "Python [conda root]",
   "language": "python",
   "name": "conda-root-py"
  },
  "language_info": {
   "codemirror_mode": {
    "name": "ipython",
    "version": 3
   },
   "file_extension": ".py",
   "mimetype": "text/x-python",
   "name": "python",
   "nbconvert_exporter": "python",
   "pygments_lexer": "ipython3",
   "version": "3.5.2"
  }
 },
 "nbformat": 4,
 "nbformat_minor": 1
}
