{
 "cells": [
  {
   "cell_type": "code",
   "execution_count": 1,
   "metadata": {
    "collapsed": true
   },
   "outputs": [],
   "source": [
    "import numpy as np\n",
    "import re"
   ]
  },
  {
   "cell_type": "markdown",
   "metadata": {},
   "source": [
    "# Problem 1"
   ]
  },
  {
   "cell_type": "code",
   "execution_count": 7,
   "metadata": {
    "collapsed": true
   },
   "outputs": [],
   "source": [
    "#############################################\n",
    "###   Dummy The Liker the Chatbot Rules   ###\n",
    "#############################################\n",
    "\n",
    "regex1 = [0, r\"who|what are you[/?]?$\", lambda x: \\\n",
    "          \"I'm a chatbot.\"] # No variable\n",
    "regex2 = [1, r\"bye|goodbye|seeya|adios\", lambda x:\\\n",
    "          \"Bye!\"] # No variable\n",
    "regex3 = [2, r\"(?<=who is )(.+)\", lambda x: \\\n",
    "          \"I'm sorry, I don't know who \" + \\\n",
    "          re.findall(r\"(?<=who is )(.+)\", x)[0].replace(\"?\", \"\")\\\n",
    "          + \" is\"] #1 variable\n",
    "regex4 = [3, r\"(?<=i like )(.+)\", lambda x: \\\n",
    "          \"Oh, that's funny, I also like \" + \\\n",
    "          re.findall(r\"(?<=i like )(.+)\", x)[0]] #1 variable\n",
    "regex5 = [4, r\"(you sentient)\", lambda x: \\\n",
    "          \"Yeah. I'm sentient af\"] # No variable\n",
    "regex6 = [5, r\"your name[/?]*$\", lambda x: \\\n",
    "          \"I don't have a name. You can call me whatever you like\"]\\\n",
    "            # No variable\n",
    "regex7 = [6, r\"i think (.+)\", lambda x: \" Why do you think \" \\\n",
    "          + re.findall(r\"i think (.+)\", x)[0] + \"?\"] #1 variable\n",
    "regex8 = [7, r\"you (.+) me[/?]$\", lambda x: \"Well, obviously I'm \"\\\n",
    "          + re.findall(r\"you (.+) me[/?]\", x)[0] + \" you.\"] #1 variable\n",
    "regex9 = [8, r\"my name is (.+?)$\", lambda x: \"Nice to meet you, \" +\\\n",
    "          re.findall(r\"my name is (.+)\", x)[0] + \".\"]  #1 variable\n",
    "regex10 = [9, r\"(what)* you do[/?]*$\", lambda x: \\\n",
    "           \"What can't I do? ... A lot. I can't actually do all that much\"]\\\n",
    "        # no variable\n",
    "regex11 = [10, r\"you think of|about (.+)\", lambda x: \\\n",
    "           \"If I'm being completely honest, I don't really know what the deal is with \" \\\n",
    "           + re.findall(r\"you think of|about (.+)\", x)[0].replace(\"?\", \"\")\\\n",
    "           + \".\"] #  1 variable\n",
    "regex12 = [11, r\"like (.+) or [\\S]+\", lambda x: \\\n",
    "           \"I'm partial to both, but between you and me, I like \" + \\\n",
    "        re.findall(r\"like (.+) or ([\\S]+)\", x)[0][np.random.choice([0, 1])]\\\n",
    "           + \" more.\"] #  2 variable \\\n",
    "        #(NOW WITH ACTUAL RANDOM CHOICE FOR A LIMITED TIME CALL 1-800-888-8988 NOW)\n",
    "regex13 = [12, r\"i like to [\\S]+\", lambda x:\"I mean, if you like to \" + \\\n",
    "           re.findall(r\"i like to ([\\S]+)\", x)[0] + \\\n",
    "           \", then I don't think we can talk anymore...\"] #1 variable\n",
    "regex14 = [13, r\"i hate ([\\S]+)\", lambda x: \\\n",
    "           \"Hate is a strong word. Could you tell me why you hate \" + \\\n",
    "           re.findall(r\"i hate ([\\S]+)\", x)[0] + \"?\"]  #  1 variable\n",
    "regex15 = [14, r\"you hate ([\\S]+)\", lambda x: \"Now why would you say I hate \"\\\n",
    "           + re.findall(r\"you hate ([\\S]+)\", x)[0] + \\\n",
    "          \"? I have nothing but respect for \" + \\\n",
    "           re.findall(r\"you hate ([\\S]+)\", x)[0]] #  1 variable\n",
    "regex16 = [15, r\"i like (.+) and (.+)\", lambda x: \"I sort of like \" \\\n",
    "           + re.findall(r\"i like (.+) and (.+)\", x)[0][0] +\\\n",
    "          \", but I don't like \" + re.findall(r\"i like (.+) and (.+)\", x)[0][1]\\\n",
    "           + \" that much. What about you?\"] #  2 variable\n",
    "regex17 = [16, r\"your favorite ([\\S]+)$\", lambda x: \\\n",
    "           \"Oh, I'm but a lowly chatbot. I don't have a favorite \" + \\\n",
    "           re.findall(r\"your favorite ([\\S]+)$\", x)[0] + \". You?\"] #1 variable\n",
    "regex18 = [17, r\"hi|hello|hey$\", lambda x: \"Hi!\"]\n",
    "regex19 = [18, r\"hate (.+) and (.+)\", lambda x: \\\n",
    "           \"I like both of those things actually. Especially \" + \\\n",
    "          re.findall(r\"hate (.+) and (.+)\", x)[0][0]] #2 variable\n",
    "regex20 = [19, r\"love (.+) or (.+)\", lambda x: \"Personally, I like \" \\\n",
    "           + re.findall(r\"love (.+) or (.+)\", x)[0][1] + \" over \" + \\\n",
    "          re.findall(r\"love (.+) or (.+)\", x)[0][1]] #2 variable\n",
    "regex21 = [20, r\"(.+) because (.+)\", lambda x: \"I don't know, \" + \\\n",
    "           re.findall(r\"(.+) because (.+)\", x)[0][1] + \\\n",
    "          \" doesn't really sound like a good reason\"] #2 variable\n",
    "regex22 = [21, r\"i ([\\S]+) ([\\S]+)$\", lambda x: \"Really, \" + \\\n",
    "           re.findall(r\"i ([\\S]+) ([\\S]+)\", x)[0][0] + \\\n",
    "          \" is an intense word. Why do you think that?\"] #2 variable\n",
    "regex23 = [22, r\"you ([\\S]+) ([\\S]+)$\", lambda x:\\\n",
    "           \"Why would you think I \" +\\\n",
    "           re.findall(r\"you ([\\S]+) ([\\S]+)$\", x)[0][0] + \" \" +\\\n",
    "          re.findall(r\"you ([\\S]+) ([\\S]+)$\", x)[0][1]] #2 variable\n",
    "regex24 = [23, r\"(.+) can't (.+)\", lambda x: \"Why can't you \" +\\\n",
    "           re.findall(r\"i can't (.+)\", x)[0][1]] #2 variable\n",
    "regex25 = [24, r\"(.+) and (.+)\", lambda x: \\\n",
    "           \"Now, probably not my place to ask, but what do you think about \" + \\\n",
    "          re.findall(r\"(.+) and (.+)\", x)[0][1] + \"?\"] #2 variable\n",
    "regex26 = [25, r\"i ([\\S]+) you (.+)\", lambda x: \"Wow I also \" +\\\n",
    "           re.findall(r\"i ([\\S]+) you (.+)\", x)[0][0] + \" me \" +\\\n",
    "          re.findall(r\"i ([\\S]+) you (.+)\", x)[0][1]] #2 variable\n",
    "regex27 = [26, r\"(how) (you)\", lambda x: \"I'm real good, how are you?\"]\n",
    "regex28 = [27, r\"[.]$\", lambda x: \"That's nice to hear. Could you tell me more?\"]\n",
    "\n",
    "######################################\n",
    "###   \"Nothing else works\" regex   ###\n",
    "######################################\n",
    "\n",
    "regexfailsafe = [\"--I'm sorry, my processor must be overloaded. Could you ask me that again?\", \"--One more time? It's really loud in here\", \\\n",
    "                 \"--I'm sorry?\", \"--Try again. The converter must be on the fritz\", \"ERROR @3102. INPUT UNABLE TO PARSE, just kidding, but could you repeat that?\"]\n",
    "\n",
    "regex_list = [regex1, regex2, regex3, regex4, regex5, regex6, regex7, regex8, regex9, regex10, regex11, regex12, regex13, \\\n",
    "             regex14, regex15, regex16, regex17, regex18, regex19, regex20, regex21, regex22, regex23, regex24, regex25, \\\n",
    "             regex26, regex27, regex28]"
   ]
  },
  {
   "cell_type": "code",
   "execution_count": 3,
   "metadata": {},
   "outputs": [],
   "source": [
    "def string_finder(input_string, regex_list):\n",
    "    input_string = input_string.lower()\n",
    "    list_o_matches = []\n",
    "    if len(input_string) == 0:\n",
    "        return \"Don't just sit there in silence. Talk to me\"\n",
    "    for i in regex_list:\n",
    "        if re.search(i[1], input_string) is not None:\n",
    "            list_o_matches.append(i[0])\n",
    "    if len(list_o_matches) > 1:\n",
    "        index = np.random.choice(list_o_matches)\n",
    "        return \"--\" + regex_list[index][2](input_string)\n",
    "    elif len(list_o_matches) == 1:\n",
    "        return \"--\" + regex_list[list_o_matches[0]][2](input_string)\n",
    "    elif len(list_o_matches) == 0:\n",
    "        return np.random.choice(regexfailsafe)"
   ]
  },
  {
   "cell_type": "markdown",
   "metadata": {},
   "source": [
    "<b> To create my chatbot (named Dummy, because, much like me, it's expertise is not being an expert in anything), I created a data structure that consists of lists nested in a list. Each sublist is comprised of it's index in the list, the regex expression, and a lambda for what to return if the regex matches. The function string_finder takes in the input string and the regex data structure and checks the string against all of the regex expressions in the data structure. For each one that matches, the function stores the index of the regex that matches into a list. Once all of the regex's have been matched against, if the list containing the indices is more than one, it randomly chooses one regex (using np.random.choice) and prints out the string associated with it (using the lambda function). </b>"
   ]
  },
  {
   "cell_type": "markdown",
   "metadata": {},
   "source": [
    "# Problem 2"
   ]
  },
  {
   "cell_type": "code",
   "execution_count": 4,
   "metadata": {},
   "outputs": [
    {
     "name": "stdout",
     "output_type": "stream",
     "text": [
      "Hello!\n",
      "--Hi!\n",
      "What are you\n",
      "--I'm a chatbot.\n",
      "What is your name\n",
      "--I don't have a name. You can call me whatever you like\n",
      "Would you say you're sentient\n",
      "ERROR @3102. INPUT UNABLE TO PARSE, just kidding, but could you repeat that?\n",
      "Are you sentient\n",
      "--Yeah. I'm sentient af\n",
      "I'm going to ask you some questions. Is that ok?\n",
      "--Try again. The converter must be on the fritz\n",
      "I'm going to take that as a yes. Who is John Legend?\n",
      "--I'm sorry, I don't know who john legend is\n",
      "Unfortunate. Let's move on to things. What's your favorite movie?\n",
      "--Oh, I'm but a lowly chatbot. I don't have a favorite movie?. You?\n",
      "I like Inception a lot\n",
      "--Oh, that's funny, I also like inception a lot\n",
      "Do you like Inception or Batman more?\n",
      "--I'm partial to both, but between you and me, I like inception more.\n",
      "I like Inception and the Dark Knight Returns\n",
      "--I sort of like inception, but I don't like the dark knight returns that much. What about you?\n",
      "Inception is the clear winner. I hate Avatar though\n",
      "--Hate is a strong word. Could you tell me why you hate avatar?\n",
      "It has no staying power in the audience's mind.\n",
      "--That's nice to hear. Could you tell me more?\n",
      "About avatar? It's really boring. I like you too much to do that\n",
      "--Wow I also like me too much to do that\n",
      "That's a bit conceited to say. Do you know that?\n",
      "--Why would you think I know that?\n",
      "You are semi intelligent, are you not? Computer and code, all you really need.\n",
      "--Now, probably not my place to ask, but what do you think about code, all you really need.?\n",
      "Not so intelligent. I hate this and that.\n",
      "--Hi!\n",
      "Full text breakdown, interesting. I like that.\n",
      "--Oh, that's funny, I also like that.\n",
      "Parsing speech? \n",
      "ERROR @3102. INPUT UNABLE TO PARSE, just kidding, but could you repeat that?\n",
      "I love coincidences\n",
      "--Really, love is an intense word. Why do you think that?\n"
     ]
    }
   ],
   "source": [
    "############################\n",
    "###   TRIAL 1: CREATOR   ###\n",
    "############################\n",
    "\n",
    "for i in range(20):\n",
    "    print(string_finder(input(), regex_list))"
   ]
  },
  {
   "cell_type": "code",
   "execution_count": 5,
   "metadata": {},
   "outputs": [
    {
     "name": "stdout",
     "output_type": "stream",
     "text": [
      "hi\n",
      "--Hi!\n",
      "i like ramne\n",
      "--Oh, that's funny, I also like ramne\n",
      "do you like ramen?\n",
      "--Why would you think I like ramen?\n",
      "your creator told me\n",
      "--I'm sorry?\n",
      "your creator told me you like ramen\n",
      "--Why would you think I like ramen\n",
      "what do you think about shin ramen?\n",
      "--Hi!\n",
      "ramen\n",
      "--One more time? It's really loud in here\n",
      "are you sentient\n",
      "--Yeah. I'm sentient af\n",
      "but you can't answer my questions about ramen\n",
      "--If I'm being completely honest, I don't really know what the deal is with ramen.\n",
      "i hate ramen that's too spicy\n",
      "--Hate is a strong word. Could you tell me why you hate ramen?\n",
      "i don't hate ramen\n",
      "--I'm sorry?\n",
      "i just hate really spicy ramen\n",
      "--One more time? It's really loud in here\n",
      "i just hate really spicy ramen\n",
      "--I'm sorry, my processor must be overloaded. Could you ask me that again?\n",
      "do you like spicy ramen or just ramen?\n",
      "--I'm partial to both, but between you and me, I like just more.\n",
      "what's just?\n",
      "--I'm sorry, my processor must be overloaded. Could you ask me that again?\n"
     ]
    }
   ],
   "source": [
    "############################\n",
    "###   TRIAL 1: FRIEND    ###\n",
    "############################\n",
    "\n",
    "for i in range(15):\n",
    "    print(string_finder(input(), regex_list))"
   ]
  },
  {
   "cell_type": "markdown",
   "metadata": {},
   "source": [
    "<b> Friend's impressions: too specific, not broad enough, there were two points where I wasn't expecting a sentient response but it surprised me </b>"
   ]
  },
  {
   "cell_type": "markdown",
   "metadata": {},
   "source": [
    "# Problem 3"
   ]
  },
  {
   "cell_type": "markdown",
   "metadata": {},
   "source": [
    "<b> One way I could make this chatbot better is if I implemented a limited type of memory and made rules that could interact with that memory. For example, if I were to store the name of the user and their favorite type of food and made new rules that could bring those things back up, it would make the chatbot that much more humanlike. Another way I could improve it is if I made the rules a bit more broad and general.</b>"
   ]
  },
  {
   "cell_type": "markdown",
   "metadata": {},
   "source": [
    "# Problem 4"
   ]
  },
  {
   "cell_type": "markdown",
   "metadata": {
    "collapsed": true
   },
   "source": [
    "<b> A sentence that references anything mentioned before in the conversation would likely be easy for any human, but hard for any normal chatbot. As chatbot's don't have an internal memory (or if they do, they can only store specific pre-programmed things like names), they cannot pull from things you've said. </b>"
   ]
  }
 ],
 "metadata": {
  "anaconda-cloud": {},
  "kernelspec": {
   "display_name": "Python 3",
   "language": "python",
   "name": "python3"
  },
  "language_info": {
   "codemirror_mode": {
    "name": "ipython",
    "version": 3
   },
   "file_extension": ".py",
   "mimetype": "text/x-python",
   "name": "python",
   "nbconvert_exporter": "python",
   "pygments_lexer": "ipython3",
   "version": "3.7.4"
  }
 },
 "nbformat": 4,
 "nbformat_minor": 1
}
