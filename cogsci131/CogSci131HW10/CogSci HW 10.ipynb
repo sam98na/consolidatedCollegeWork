{
 "cells": [
  {
   "cell_type": "code",
   "execution_count": 1,
   "metadata": {
    "collapsed": false
   },
   "outputs": [],
   "source": [
    "import numpy as np\n",
    "import matplotlib.pyplot as plt\n",
    "import pandas as pd\n",
    "%matplotlib inline"
   ]
  },
  {
   "cell_type": "markdown",
   "metadata": {},
   "source": [
    "# Question 1"
   ]
  },
  {
   "cell_type": "code",
   "execution_count": 2,
   "metadata": {
    "collapsed": false
   },
   "outputs": [
    {
     "data": {
      "text/html": [
       "<div>\n",
       "<table border=\"1\" class=\"dataframe\">\n",
       "  <thead>\n",
       "    <tr style=\"text-align: right;\">\n",
       "      <th></th>\n",
       "      <th>Words</th>\n",
       "      <th>Frequencies</th>\n",
       "    </tr>\n",
       "  </thead>\n",
       "  <tbody>\n",
       "    <tr>\n",
       "      <th>0</th>\n",
       "      <td>i</td>\n",
       "      <td>152884</td>\n",
       "    </tr>\n",
       "    <tr>\n",
       "      <th>1</th>\n",
       "      <td>and</td>\n",
       "      <td>128635</td>\n",
       "    </tr>\n",
       "    <tr>\n",
       "      <th>2</th>\n",
       "      <td>the</td>\n",
       "      <td>123648</td>\n",
       "    </tr>\n",
       "  </tbody>\n",
       "</table>\n",
       "</div>"
      ],
      "text/plain": [
       "  Words  Frequencies\n",
       "0     i       152884\n",
       "1   and       128635\n",
       "2   the       123648"
      ]
     },
     "execution_count": 2,
     "metadata": {},
     "output_type": "execute_result"
    }
   ],
   "source": [
    "data = pd.read_csv(\"Assignment10-WordFrequencies.csv\", names = [\"Words\", \"Frequencies\"])\n",
    "data.head(3)"
   ]
  },
  {
   "cell_type": "code",
   "execution_count": 3,
   "metadata": {
    "collapsed": false
   },
   "outputs": [
    {
     "name": "stdout",
     "output_type": "stream",
     "text": [
      "The entropy over words in the English language is about 8.938139929017918\n"
     ]
    }
   ],
   "source": [
    "summed = sum(data[\"Frequencies\"])\n",
    "x = []\n",
    "data[\"Frequencies\"].apply(lambda y: x.append((y/summed)*(np.log2(1/(y/summed)))))\n",
    "freqentropy = sum(x)\n",
    "print(\"The entropy over words in the English\\\n",
    " language is about {}\".format(freqentropy))"
   ]
  },
  {
   "cell_type": "markdown",
   "metadata": {},
   "source": [
    "# Question 2"
   ]
  },
  {
   "cell_type": "code",
   "execution_count": 4,
   "metadata": {
    "collapsed": false
   },
   "outputs": [
    {
     "name": "stdout",
     "output_type": "stream",
     "text": [
      "The entropy over words using uniform probability is about 15.339502088876621\n"
     ]
    }
   ],
   "source": [
    "y = []\n",
    "data[\"Frequencies\"].apply(lambda q: y.append((1/len(data[\"Frequencies\"]))*(np.log2(1/(1/len(data[\"Frequencies\"]))))))\n",
    "uniformentropy = sum(y)\n",
    "print(\"The entropy over words using uniform \\\n",
    "probability is about {}\".format(uniformentropy))"
   ]
  },
  {
   "cell_type": "markdown",
   "metadata": {},
   "source": [
    "<b> Given that both entropies are below 20 (and entropy in this scenario represents the number of questions of what letter is next one must ask before obtaining the full word), this game is fair using the 20 questions game. </b>"
   ]
  },
  {
   "cell_type": "markdown",
   "metadata": {},
   "source": [
    "# Question 3"
   ]
  },
  {
   "cell_type": "code",
   "execution_count": 24,
   "metadata": {
    "collapsed": false
   },
   "outputs": [],
   "source": [
    "import string\n",
    "allalphabets = list(string.ascii_lowercase)\n",
    "probabilities = []\n",
    "tempdata = data.copy()\n",
    "tempdata[\"First\"] = tempdata[\"Words\"].astype(str).str[0]"
   ]
  },
  {
   "cell_type": "code",
   "execution_count": 43,
   "metadata": {
    "collapsed": false
   },
   "outputs": [
    {
     "data": {
      "text/plain": [
       "<matplotlib.text.Text at 0x245c074a9e8>"
      ]
     },
     "execution_count": 43,
     "metadata": {},
     "output_type": "execute_result"
    },
    {
     "data": {
      "image/png": "[encoded data removed]",
      "text/plain": [
       "<matplotlib.figure.Figure at 0x245bf4263c8>"
      ]
     },
     "metadata": {},
     "output_type": "display_data"
    }
   ],
   "source": [
    "probabilities = []\n",
    "for i in allalphabets:\n",
    "    letterdata = tempdata[tempdata[\"First\"] == i]\n",
    "    freq = sum(letterdata[\"Frequencies\"])\n",
    "    u = []\n",
    "    letterdata[\"Frequencies\"].apply(lambda q: u.append((q/freq)*(np.log2(1/(q/freq)))))\n",
    "    entropy = sum(u)\n",
    "    probabilities.append(entropy)\n",
    "plt.bar(range(26), probabilities, tick_label = allalphabets)\n",
    "plt.xlabel(\"Alphabet\")\n",
    "plt.ylabel(\"Entropy\")\n",
    "plt.title(\"Entropy given First Letter of Word\")"
   ]
  },
  {
   "cell_type": "markdown",
   "metadata": {},
   "source": [
    "# Problem 4"
   ]
  },
  {
   "cell_type": "code",
   "execution_count": null,
   "metadata": {
    "collapsed": false
   },
   "outputs": [],
   "source": []
  },
  {
   "cell_type": "markdown",
   "metadata": {},
   "source": [
    "# Problem 5"
   ]
  },
  {
   "cell_type": "code",
   "execution_count": 56,
   "metadata": {
    "collapsed": false
   },
   "outputs": [
    {
     "name": "stdout",
     "output_type": "stream",
     "text": [
      "Time elapsed: -10.853532791137695\n"
     ]
    },
    {
     "data": {
      "text/plain": [
       "<Container object of 30 artists>"
      ]
     },
     "execution_count": 56,
     "metadata": {},
     "output_type": "execute_result"
    },
    {
     "data": {
      "image/png": "[encoded data removed]",
      "text/plain": [
       "<matplotlib.figure.Figure at 0x245c06b4898>"
      ]
     },
     "metadata": {},
     "output_type": "display_data"
    }
   ],
   "source": [
    "import time\n",
    "temp = data.copy()\n",
    "temp[\"Len\"] = temp[\"Words\"].astype(str).apply(lambda x: len(x))\n",
    "items = temp[\"Len\"].unique()\n",
    "surprisals = []\n",
    "start = time.time()\n",
    "for i in items:\n",
    "    tempdown = temp[temp[\"Len\"] == i]\n",
    "    averages = []\n",
    "    for n in range(len(tempdown)):\n",
    "        averages.append(-np.log2((tempdown.iloc[n][\"\\\n",
    "        Frequencies\"]/sum(tempdown[\"Frequencies\"]))))\n",
    "    surprisals.append(np.sum(averages)/len(averages))\n",
    "end = time.time()\n",
    "print(\"Time elapsed: {}\".format(str(start-end)))\n",
    "plt.bar(items, surprisals)"
   ]
  }
 ],
 "metadata": {
  "anaconda-cloud": {},
  "kernelspec": {
   "display_name": "Python [conda root]",
   "language": "python",
   "name": "conda-root-py"
  },
  "language_info": {
   "codemirror_mode": {
    "name": "ipython",
    "version": 3
   },
   "file_extension": ".py",
   "mimetype": "text/x-python",
   "name": "python",
   "nbconvert_exporter": "python",
   "pygments_lexer": "ipython3",
   "version": "3.5.2"
  }
 },
 "nbformat": 4,
 "nbformat_minor": 1
}
